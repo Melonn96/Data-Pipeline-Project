{
 "cells": [
  {
   "cell_type": "markdown",
   "metadata": {},
   "source": [
    "### Data Acquisition"
   ]
  },
  {
   "cell_type": "code",
   "execution_count": 1,
   "metadata": {},
   "outputs": [],
   "source": [
    "import pandas as pd\n",
    "import numpy as np\n",
    "import sqlalchemy\n",
    "from sqlalchemy import create_engine\n",
    "import requests\n",
    "import math \n",
    "from bs4 import BeautifulSoup\n",
    "import re"
   ]
  },
  {
   "cell_type": "code",
   "execution_count": 2,
   "metadata": {},
   "outputs": [],
   "source": [
    "# Function para cargar las tablas a csv\n",
    "\n",
    "def create_csv_from_sql(*sql_table):\n",
    "    \n",
    "    #Create the conection\n",
    "    path = './data/raw_data_project_m1.db'\n",
    "    engine = create_engine(f'sqlite:///{path}')\n",
    "    \n",
    "    # tables to csv\n",
    "    for table in sql_table:\n",
    "        try:\n",
    "            df = pd.read_sql_query(f'SELECT * FROM {table}', engine)\n",
    "            df.to_csv(f'./data/raw/{table}.csv', index=False)\n",
    "        except ValueError:\n",
    "            print(f'The database {table} does not exist...')"
   ]
  },
  {
   "cell_type": "code",
   "execution_count": 3,
   "metadata": {},
   "outputs": [],
   "source": [
    "create_csv_from_sql('country_info', 'career_info', 'personal_info', 'poll_info')"
   ]
  },
  {
   "cell_type": "code",
   "execution_count": 4,
   "metadata": {},
   "outputs": [],
   "source": [
    "# Function para cargar los datos de la API a csv\n",
    "\n",
    "def create_csv_from_api(url, csv):\n",
    "    \n",
    "    # Get the data from the csv\n",
    "    try:\n",
    "        career = pd.read_csv(f'./data/raw/{csv}.csv')\n",
    "        normalized_code = career['normalized_job_code']\n",
    "        codes = normalized_code.unique()\n",
    "    except ValueError:\n",
    "        print(f'The csv is incorrect')\n",
    "        \n",
    "    # Connect to API\n",
    "\n",
    "    api_data = []\n",
    "\n",
    "    for i in codes:\n",
    "        if type(i) == float:\n",
    "            pass\n",
    "        else:\n",
    "            response = requests.get(f'{url}/{i}')\n",
    "            json_data = response.json()\n",
    "            API_data = pd.DataFrame(json_data, index = [0, 1, 2, 3])\n",
    "            api_data.append(API_data)\n",
    "      \n",
    "    # Create the csv\n",
    "    df_apis = pd.concat(api_data, ignore_index = True)\n",
    "    df_apis.drop_duplicates(inplace = True, ignore_index = True)\n",
    "    df_apis.to_csv(f'./data/raw/API.csv', index=False)"
   ]
  },
  {
   "cell_type": "code",
   "execution_count": 5,
   "metadata": {},
   "outputs": [],
   "source": [
    "create_csv_from_api('http://api.dataatwork.org/v1/jobs', 'career_info')"
   ]
  },
  {
   "cell_type": "code",
   "execution_count": 17,
   "metadata": {},
   "outputs": [],
   "source": [
    "# Function to get data from web\n",
    "\n",
    "def web_to_csv(url):\n",
    "    \n",
    "    import requests\n",
    "    \n",
    "    # Connect to the web\n",
    "    html = requests.get(url).content\n",
    "    soup = BeautifulSoup(html, 'lxml')\n",
    "    table = soup.find_all('table', {'width': '80%', 'border':'1', 'cellpadding':'2', 'cellspacing':'0'})\n",
    "    \n",
    "    # Create a list from the web data\n",
    "    table_1 = str(table).split('</td>')\n",
    "    \n",
    "    # Cleaning '\\n<td>'\n",
    "    table_2 = []\n",
    "    clean = ''\n",
    "\n",
    "    for i in table_1:\n",
    "        clean = re.sub('\\n<td>','', i)\n",
    "        table_2.append(clean)\n",
    "    \n",
    "    # Cleaning long strings\n",
    "    table_3 = []\n",
    "    clean_1 = ''\n",
    "\n",
    "    for i in table_2:\n",
    "        if '[<table border=\"1\"' in i:\n",
    "            clean_1 = 'Belgium'\n",
    "            table_3.append(clean_1)\n",
    "        elif '</tr></table>,' in i:\n",
    "            clean_1 = 'Argentina'\n",
    "            table_3.append(clean_1)\n",
    "        else:\n",
    "            table_3.append(i)\n",
    "    \n",
    "    # Cleaning \\n\n",
    "    table_4 = []\n",
    "    clean_2 = ''\n",
    "\n",
    "    for i in table_3:\n",
    "        clean_2 = re.sub('\\n', '', i)\n",
    "        table_4.append(clean_2)\n",
    "        \n",
    "    # Cleaning </tr><tr>\n",
    "    table_5 = []\n",
    "    clean_3 = ''\n",
    "\n",
    "    for i in table_4:\n",
    "        clean_3 = re.sub('</tr><tr>', '', i)\n",
    "        table_5.append(clean_3)\n",
    "        \n",
    "    # Cleaning ''\n",
    "    table_6 = []\n",
    "    for i in table_5:\n",
    "        if i == '':\n",
    "            pass\n",
    "        else:\n",
    "            table_6.append(i)\n",
    "          \n",
    "    # Cleaning ()\n",
    "    table_7 = []\n",
    "    code = ''\n",
    "    for i in table_6:\n",
    "        code = re.sub('[()]', '', i)\n",
    "        table_7.append(code)\n",
    "    \n",
    "    # Deleting last row\n",
    "    i=len(table_7)\n",
    "    table_7.pop(i-1)\n",
    "    \n",
    "    # Create the DataFrame\n",
    "    keys = [table_7[i] for i in range(0, len(table_7), 2)]\n",
    "    values = [table_7[i] for i in range(1, len(table_7), 2)]\n",
    "\n",
    "    DataFrame = pd.DataFrame({'Country': keys, 'Codes': values})\n",
    "    \n",
    "    # Export to CSV\n",
    "    DataFrame.to_csv(f'./data/raw/countrys_codes.csv', index=False)"
   ]
  },
  {
   "cell_type": "code",
   "execution_count": 18,
   "metadata": {},
   "outputs": [],
   "source": [
    "web_to_csv('https://ec.europa.eu/eurostat/statistics-explained/index.php/Glossary:Country_codes')"
   ]
  },
  {
   "cell_type": "code",
   "execution_count": null,
   "metadata": {},
   "outputs": [],
   "source": []
  }
 ],
 "metadata": {
  "kernelspec": {
   "display_name": "Python [conda env:ironhack_env]",
   "language": "python",
   "name": "conda-env-ironhack_env-py"
  },
  "language_info": {
   "codemirror_mode": {
    "name": "ipython",
    "version": 3
   },
   "file_extension": ".py",
   "mimetype": "text/x-python",
   "name": "python",
   "nbconvert_exporter": "python",
   "pygments_lexer": "ipython3",
   "version": "3.7.7"
  }
 },
 "nbformat": 4,
 "nbformat_minor": 4
}
